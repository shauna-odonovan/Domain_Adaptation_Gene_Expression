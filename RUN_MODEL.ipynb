{
 "cells": [
  {
   "cell_type": "code",
   "execution_count": null,
   "id": "16e84015",
   "metadata": {},
   "outputs": [],
   "source": [
    "pip install tensorflow==1.15 --user"
   ]
  },
  {
   "cell_type": "code",
   "execution_count": null,
   "id": "c4195181",
   "metadata": {},
   "outputs": [],
   "source": [
    "pip install keras==2.2.4"
   ]
  },
  {
   "cell_type": "code",
   "execution_count": null,
   "id": "58a6d5cc",
   "metadata": {},
   "outputs": [],
   "source": [
    "pip install scikit-learn"
   ]
  },
  {
   "cell_type": "code",
   "execution_count": null,
   "id": "5f5643ce",
   "metadata": {},
   "outputs": [],
   "source": [
    "#Specify which gene set you wish to train model for in line 355 of DataHandlee_doubling_only.py file. \n",
    "#Currently set to STEATOSIS gene set. "
   ]
  },
  {
   "cell_type": "code",
   "execution_count": null,
   "id": "6aa649ba",
   "metadata": {},
   "outputs": [],
   "source": [
    "#to train the network without domain adataion run the following script\n",
    "%run Train_Model_without_Domain_Adaptation.py"
   ]
  },
  {
   "cell_type": "code",
   "execution_count": null,
   "id": "28957f30",
   "metadata": {},
   "outputs": [],
   "source": [
    "#To train the network with domain adaption run the following script\n",
    "%run Train_Model_with_Domain_Adaptation.py"
   ]
  },
  {
   "cell_type": "code",
   "execution_count": null,
   "id": "d486cf0c",
   "metadata": {},
   "outputs": [],
   "source": [
    "#To run the code to generate figure 3\n",
    "%run Adaptation_Effext_Plot"
   ]
  },
  {
   "cell_type": "code",
   "execution_count": null,
   "id": "2181d5a4",
   "metadata": {},
   "outputs": [],
   "source": [
    "#run code to generate figure 4\n",
    "%run Gene_Instance_Plot"
   ]
  },
  {
   "cell_type": "code",
   "execution_count": null,
   "id": "bbe82e74",
   "metadata": {},
   "outputs": [],
   "source": [
    "#To run the code to train the SVM classifier to classify GTX and carcinogenisty using the model latent space\n",
    "%run LatentSpacesSVM"
   ]
  },
  {
   "cell_type": "code",
   "execution_count": null,
   "id": "ecf8f2bd",
   "metadata": {},
   "outputs": [],
   "source": [
    "#To run the code to generate Supplemental figure 1\n",
    " %run Learning_Layers_Plot"
   ]
  },
  {
   "cell_type": "code",
   "execution_count": null,
   "id": "98f563eb",
   "metadata": {},
   "outputs": [],
   "source": []
  },
  {
   "cell_type": "code",
   "execution_count": null,
   "id": "0546ce58",
   "metadata": {},
   "outputs": [],
   "source": []
  }
 ],
 "metadata": {
  "kernelspec": {
   "display_name": "Python 3",
   "language": "python",
   "name": "python3"
  },
  "language_info": {
   "codemirror_mode": {
    "name": "ipython",
    "version": 3
   },
   "file_extension": ".py",
   "mimetype": "text/x-python",
   "name": "python",
   "nbconvert_exporter": "python",
   "pygments_lexer": "ipython3",
   "version": "3.6.13"
  }
 },
 "nbformat": 4,
 "nbformat_minor": 5
}
